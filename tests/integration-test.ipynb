{
 "cells": [
  {
   "cell_type": "code",
   "execution_count": 1,
   "metadata": {},
   "outputs": [
    {
     "name": "stderr",
     "output_type": "stream",
     "text": [
      "/Users/gastonamengual/Library/Mobile Documents/com~apple~CloudDocs/Documents/Software/Projects/Image-Recognition-App-Fastapi/.venv/lib/python3.12/site-packages/tqdm/auto.py:21: TqdmWarning: IProgress not found. Please update jupyter and ipywidgets. See https://ipywidgets.readthedocs.io/en/stable/user_install.html\n",
      "  from .autonotebook import tqdm as notebook_tqdm\n"
     ]
    }
   ],
   "source": [
    "\n",
    "import io\n",
    "import os\n",
    "import json\n",
    "\n",
    "import numpy as np\n",
    "from fastapi import Response\n",
    "from gradio_client import Client\n",
    "from PIL import Image\n",
    "\n",
    "ALLOWED_EXTENSIONS = [\"png\", \"jpg\", \"jpeg\"]"
   ]
  },
  {
   "cell_type": "code",
   "execution_count": 24,
   "metadata": {},
   "outputs": [],
   "source": [
    "current_dir = os.getcwd()\n",
    "sample_img_url = f\"{current_dir}/sample_images/cats.jpg\"\n",
    "\n",
    "with open(sample_img_url, \"rb\") as image_file:\n",
    "    image_bytes = image_file.read()\n",
    "\n",
    "data = {\n",
    "    \"filename\": \"cats.jpg\",\n",
    "    \"image_bytes\": image_bytes,\n",
    "}"
   ]
  },
  {
   "cell_type": "code",
   "execution_count": 25,
   "metadata": {},
   "outputs": [
    {
     "name": "stdout",
     "output_type": "stream",
     "text": [
      "Loaded as API: https://gastonamengual-object-detection-app.hf.space/ ✔\n"
     ]
    }
   ],
   "source": [
    "\n",
    "filename = data['filename']\n",
    "image_bytes = data['image_bytes']\n",
    "\n",
    "list_encoded_image = np.frombuffer(image_bytes, dtype=np.uint8).tolist()\n",
    "\n",
    "client = Client(\"https://gastonamengual-object-detection-app.hf.space/\")\n",
    "result = client.predict(\n",
    "    json.dumps(list_encoded_image),\n",
    "    api_name=\"/predict\",\n",
    ")\n",
    "\n",
    "bytes_image = bytes(json.loads(result))\n",
    "response = Response(content=bytes_image, media_type=\"image/png\")\n",
    "\n",
    "predicted_image = Image.open(io.BytesIO(response.body))\n",
    "    \n",
    "# Save image as PNG\n",
    "predicted_image.save(\"predicted_images.png\", format=\"PNG\")\n",
    "\n"
   ]
  }
 ],
 "metadata": {
  "kernelspec": {
   "display_name": ".venv",
   "language": "python",
   "name": "python3"
  },
  "language_info": {
   "codemirror_mode": {
    "name": "ipython",
    "version": 3
   },
   "file_extension": ".py",
   "mimetype": "text/x-python",
   "name": "python",
   "nbconvert_exporter": "python",
   "pygments_lexer": "ipython3",
   "version": "3.12.9"
  },
  "orig_nbformat": 4
 },
 "nbformat": 4,
 "nbformat_minor": 2
}
