{
 "cells": [
  {
   "cell_type": "code",
   "execution_count": null,
   "metadata": {},
   "outputs": [],
   "source": [
    "import io\n",
    "import os\n",
    "import json\n",
    "import base64\n",
    "import numpy as np\n",
    "from fastapi import Response\n",
    "from gradio_client import Client\n",
    "from PIL import Image\n",
    "\n",
    "ALLOWED_EXTENSIONS = [\"png\", \"jpg\", \"jpeg\"]"
   ]
  },
  {
   "cell_type": "code",
   "execution_count": null,
   "metadata": {},
   "outputs": [],
   "source": [
    "current_dir = os.getcwd()\n",
    "sample_img_url = f\"{current_dir}/sample_images/computer.jpg\"\n",
    "\n",
    "with open(sample_img_url, \"rb\") as image_file:\n",
    "    image_bytes = image_file.read()\n",
    "\n",
    "\n",
    "image_base64 = base64.b64encode(image_bytes).decode(\"utf-8\")\n",
    "\n",
    "data = {\n",
    "    \"filename\": \"people_laughing.jpg\",\n",
    "    \"image_bytes\": image_base64,\n",
    "}"
   ]
  },
  {
   "cell_type": "code",
   "execution_count": null,
   "metadata": {},
   "outputs": [
    {
     "name": "stdout",
     "output_type": "stream",
     "text": [
      "Loaded as API: https://gastonamengual-object-detection-app.hf.space/ ✔\n"
     ]
    }
   ],
   "source": [
    "image_bytes = base64.b64decode(data[\"image_bytes\"])\n",
    "\n",
    "list_encoded_image = np.frombuffer(image_bytes, dtype=np.uint8).tolist()\n",
    "\n",
    "client = Client(\"https://gastonamengual-object-detection-app.hf.space/\")\n",
    "result = client.predict(\n",
    "    json.dumps(list_encoded_image),\n",
    "    api_name=\"/predict\",\n",
    ")\n",
    "\n",
    "bytes_image = bytes(json.loads(result))\n",
    "response = Response(content=bytes_image, media_type=\"image/png\")\n",
    "\n",
    "predicted_image = Image.open(io.BytesIO(response.body))\n",
    "\n",
    "# Save image as PNG\n",
    "predicted_image.save(\"predicted_images.png\", format=\"PNG\")"
   ]
  }
 ],
 "metadata": {
  "kernelspec": {
   "display_name": ".venv",
   "language": "python",
   "name": "python3"
  },
  "language_info": {
   "codemirror_mode": {
    "name": "ipython",
    "version": 3
   },
   "file_extension": ".py",
   "mimetype": "text/x-python",
   "name": "python",
   "nbconvert_exporter": "python",
   "pygments_lexer": "ipython3",
   "version": "3.12.9"
  },
  "orig_nbformat": 4
 },
 "nbformat": 4,
 "nbformat_minor": 2
}
